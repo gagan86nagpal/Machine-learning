{
 "cells": [
  {
   "cell_type": "code",
   "execution_count": 1,
   "metadata": {
    "collapsed": true
   },
   "outputs": [],
   "source": [
    "import numpy as np\n",
    "import matplotlib.pyplot as plt"
   ]
  },
  {
   "cell_type": "code",
   "execution_count": 2,
   "metadata": {
    "collapsed": true
   },
   "outputs": [],
   "source": [
    "x=[1,4,5,6]\n",
    "y=[-1,2,3,4]\n",
    "x=np.asarray(x)\n",
    "y=np.asarray(y)"
   ]
  },
  {
   "cell_type": "code",
   "execution_count": 3,
   "metadata": {
    "scrolled": true
   },
   "outputs": [
    {
     "data": {
      "image/png": "[encoded data removed]",
      "text/plain": [
       "<matplotlib.figure.Figure at 0x6ed042deb8>"
      ]
     },
     "metadata": {},
     "output_type": "display_data"
    }
   ],
   "source": [
    "plt.figure()\n",
    "plt.scatter(x,y)\n",
    "plt.show()"
   ]
  },
  {
   "cell_type": "code",
   "execution_count": 4,
   "metadata": {
    "collapsed": true,
    "scrolled": false
   },
   "outputs": [],
   "source": [
    "theta=np.asarray([0 ,0])"
   ]
  },
  {
   "cell_type": "code",
   "execution_count": 5,
   "metadata": {
    "collapsed": true
   },
   "outputs": [],
   "source": [
    "X=[[1]*len(x) ,x]\n",
    "X=np.asarray(X)\n",
    "X=X.transpose()"
   ]
  },
  {
   "cell_type": "code",
   "execution_count": 6,
   "metadata": {
    "collapsed": true
   },
   "outputs": [],
   "source": [
    "def cost(x,y,theta,m):\n",
    "    ret=0\n",
    "    for i in range(0,m):\n",
    "        ret+=(sum(x[i]*theta)-y[i])**2\n",
    "    return (ret)"
   ]
  },
  {
   "cell_type": "code",
   "execution_count": 7,
   "metadata": {
    "collapsed": true
   },
   "outputs": [],
   "source": [
    "def grad(x,y,theta,m):\n",
    "    grad=np.zeros(theta.shape)\n",
    "    \n",
    "    for i in range(0,len(theta)):\n",
    "        s=0\n",
    "        for j in range(0,m):\n",
    "            s+= ( np.matmul(theta.transpose(),x[j] ) - y[j]) * x[j][i]\n",
    "            #print(s)\n",
    "        grad[i]=s\n",
    "    return grad"
   ]
  },
  {
   "cell_type": "code",
   "execution_count": 8,
   "metadata": {},
   "outputs": [
    {
     "data": {
      "image/png": "[encoded data removed]",
      "text/plain": [
       "<matplotlib.figure.Figure at 0x6ecfa5fba8>"
      ]
     },
     "metadata": {},
     "output_type": "display_data"
    },
    {
     "data": {
      "text/plain": [
       "array([-1.99999965,  0.99999993])"
      ]
     },
     "execution_count": 8,
     "metadata": {},
     "output_type": "execute_result"
    }
   ],
   "source": [
    "alpha=0.09\n",
    "m=len(y)\n",
    "theta=np.asarray([0,0])\n",
    "for i in range(0,1000):\n",
    "    #print('Iteration : {} , cost : {}'.format(i,cost(X,y,theta,m)))\n",
    "    theta=theta-(alpha/m)*grad(X,y,theta,m)\n",
    "plt.figure()\n",
    "plt.scatter(x,y)\n",
    "temp=[min(x),max(x)]\n",
    "plt.plot(temp, np.matmul(np.asarray([[1]*len(temp),temp]).transpose() ,theta.transpose()))\n",
    "plt.show()\n",
    "theta"
   ]
  },
  {
   "cell_type": "code",
   "execution_count": 9,
   "metadata": {},
   "outputs": [
    {
     "data": {
      "image/png": "[encoded data removed]",
      "text/plain": [
       "<matplotlib.figure.Figure at 0x6ecf711978>"
      ]
     },
     "metadata": {},
     "output_type": "display_data"
    }
   ],
   "source": [
    "Xt=X.transpose()\n",
    "thetaOptimal= np.matmul(np.matmul(np.linalg.pinv(np.matmul(Xt,X)), Xt) ,y)\n",
    "co=cost(X,y,thetaOptimal,m)\n",
    "plt.figure()\n",
    "plt.scatter(x,y)\n",
    "temp=[min(x),max(x)]\n",
    "plt.plot(temp, np.matmul(np.asarray([[1]*len(temp),temp]).transpose() ,thetaOptimal.transpose()))\n",
    "plt.show()"
   ]
  }
 ],
 "metadata": {
  "kernelspec": {
   "display_name": "Python 3",
   "language": "python",
   "name": "python3"
  },
  "language_info": {
   "codemirror_mode": {
    "name": "ipython",
    "version": 3
   },
   "file_extension": ".py",
   "mimetype": "text/x-python",
   "name": "python",
   "nbconvert_exporter": "python",
   "pygments_lexer": "ipython3",
   "version": "3.6.1"
  }
 },
 "nbformat": 4,
 "nbformat_minor": 2
}
