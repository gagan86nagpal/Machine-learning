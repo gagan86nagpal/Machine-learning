{
 "cells": [
  {
   "cell_type": "code",
   "execution_count": 12,
   "metadata": {},
   "outputs": [],
   "source": [
    "%matplotlib notebook\n",
    "import numpy as np\n",
    "from sklearn.datasets import load_digits\n",
    "from sklearn.model_selection import train_test_split\n",
    "import seaborn as sns\n",
    "import pandas as pd\n",
    "import matplotlib.pyplot as plt\n",
    "\n",
    "dataset= load_digits()\n",
    "X,y= dataset.data,dataset.target"
   ]
  },
  {
   "cell_type": "code",
   "execution_count": 15,
   "metadata": {},
   "outputs": [
    {
     "data": {
      "text/plain": [
       "array([1615,  182], dtype=int64)"
      ]
     },
     "execution_count": 15,
     "metadata": {},
     "output_type": "execute_result"
    }
   ],
   "source": [
    "# Creating imbalanced \n",
    "y_binary_imbalanced = y.copy()\n",
    "y_binary_imbalanced[y!=1]=0\n",
    "np.bincount(y_binary_imbalanced)"
   ]
  },
  {
   "cell_type": "code",
   "execution_count": 19,
   "metadata": {},
   "outputs": [
    {
     "name": "stdout",
     "output_type": "stream",
     "text": [
      "Train accuracy 1.0\n",
      "Test accuracy 0.9088888888888889\n"
     ]
    }
   ],
   "source": [
    "from sklearn.svm import SVC\n",
    "X_train,X_test,y_train,y_test = train_test_split(X,y_binary_imbalanced,random_state=0)\n",
    "clf = SVC(kernel='rbf',C=1).fit(X_train,y_train)\n",
    "print('Train accuracy {}'.format(clf.score(X_train,y_train)))\n",
    "print('Test accuracy {}'.format(clf.score(X_test,y_test)))\n",
    "      "
   ]
  },
  {
   "cell_type": "markdown",
   "metadata": {},
   "source": [
    "# Dummy Classifier"
   ]
  },
  {
   "cell_type": "code",
   "execution_count": 22,
   "metadata": {},
   "outputs": [
    {
     "name": "stdout",
     "output_type": "stream",
     "text": [
      "Train accuracy 0.896807720861173\n",
      "Test accuracy 0.9044444444444445\n"
     ]
    },
    {
     "data": {
      "text/plain": [
       "array([0, 0, 0, 0, 0, 0, 0, 0, 0, 0, 0, 0, 0, 0, 0, 0, 0, 0, 0, 0, 0, 0, 0,\n",
       "       0, 0, 0, 0, 0, 0, 0, 0, 0, 0, 0, 0, 0, 0, 0, 0, 0, 0, 0, 0, 0, 0, 0,\n",
       "       0, 0, 0, 0, 0, 0, 0, 0, 0, 0, 0, 0, 0, 0, 0, 0, 0, 0, 0, 0, 0, 0, 0,\n",
       "       0, 0, 0, 0, 0, 0, 0, 0, 0, 0, 0, 0, 0, 0, 0, 0, 0, 0, 0, 0, 0, 0, 0,\n",
       "       0, 0, 0, 0, 0, 0, 0, 0, 0, 0, 0, 0, 0, 0, 0, 0, 0, 0, 0, 0, 0, 0, 0,\n",
       "       0, 0, 0, 0, 0, 0, 0, 0, 0, 0, 0, 0, 0, 0, 0, 0, 0, 0, 0, 0, 0, 0, 0,\n",
       "       0, 0, 0, 0, 0, 0, 0, 0, 0, 0, 0, 0, 0, 0, 0, 0, 0, 0, 0, 0, 0, 0, 0,\n",
       "       0, 0, 0, 0, 0, 0, 0, 0, 0, 0, 0, 0, 0, 0, 0, 0, 0, 0, 0, 0, 0, 0, 0,\n",
       "       0, 0, 0, 0, 0, 0, 0, 0, 0, 0, 0, 0, 0, 0, 0, 0, 0, 0, 0, 0, 0, 0, 0,\n",
       "       0, 0, 0, 0, 0, 0, 0, 0, 0, 0, 0, 0, 0, 0, 0, 0, 0, 0, 0, 0, 0, 0, 0,\n",
       "       0, 0, 0, 0, 0, 0, 0, 0, 0, 0, 0, 0, 0, 0, 0, 0, 0, 0, 0, 0, 0, 0, 0,\n",
       "       0, 0, 0, 0, 0, 0, 0, 0, 0, 0, 0, 0, 0, 0, 0, 0, 0, 0, 0, 0, 0, 0, 0,\n",
       "       0, 0, 0, 0, 0, 0, 0, 0, 0, 0, 0, 0, 0, 0, 0, 0, 0, 0, 0, 0, 0, 0, 0,\n",
       "       0, 0, 0, 0, 0, 0, 0, 0, 0, 0, 0, 0, 0, 0, 0, 0, 0, 0, 0, 0, 0, 0, 0,\n",
       "       0, 0, 0, 0, 0, 0, 0, 0, 0, 0, 0, 0, 0, 0, 0, 0, 0, 0, 0, 0, 0, 0, 0,\n",
       "       0, 0, 0, 0, 0, 0, 0, 0, 0, 0, 0, 0, 0, 0, 0, 0, 0, 0, 0, 0, 0, 0, 0,\n",
       "       0, 0, 0, 0, 0, 0, 0, 0, 0, 0, 0, 0, 0, 0, 0, 0, 0, 0, 0, 0, 0, 0, 0,\n",
       "       0, 0, 0, 0, 0, 0, 0, 0, 0, 0, 0, 0, 0, 0, 0, 0, 0, 0, 0, 0, 0, 0, 0,\n",
       "       0, 0, 0, 0, 0, 0, 0, 0, 0, 0, 0, 0, 0, 0, 0, 0, 0, 0, 0, 0, 0, 0, 0,\n",
       "       0, 0, 0, 0, 0, 0, 0, 0, 0, 0, 0, 0, 0])"
      ]
     },
     "execution_count": 22,
     "metadata": {},
     "output_type": "execute_result"
    }
   ],
   "source": [
    "from sklearn.dummy import DummyClassifier\n",
    "dummy_clf = DummyClassifier(strategy='most_frequent').fit(X_train,y_train)\n",
    "print('Train accuracy {}'.format(dummy_clf.score(X_train,y_train)))\n",
    "print('Test accuracy {}'.format(dummy_clf.score(X_test,y_test)))\n",
    "dummy_clf.predict(X_test)"
   ]
  },
  {
   "cell_type": "code",
   "execution_count": 23,
   "metadata": {},
   "outputs": [
    {
     "name": "stdout",
     "output_type": "stream",
     "text": [
      "Train accuracy 1.0\n",
      "Test accuracy 0.9777777777777777\n"
     ]
    }
   ],
   "source": [
    "clf = SVC(kernel='linear',C=1).fit(X_train,y_train)\n",
    "print('Train accuracy {}'.format(clf.score(X_train,y_train)))\n",
    "print('Test accuracy {}'.format(clf.score(X_test,y_test)))"
   ]
  },
  {
   "cell_type": "markdown",
   "metadata": {},
   "source": [
    "# Confusion Matrix"
   ]
  },
  {
   "cell_type": "code",
   "execution_count": 29,
   "metadata": {},
   "outputs": [
    {
     "name": "stdout",
     "output_type": "stream",
     "text": [
      "[[407   0]\n",
      " [ 43   0]]\n"
     ]
    }
   ],
   "source": [
    "from sklearn.metrics import confusion_matrix\n",
    "dummy_clf = DummyClassifier(strategy='most_frequent').fit(X_train,y_train)\n",
    "y_predicted  = dummy_clf.predict(X_test)\n",
    "confusion= confusion_matrix(y_test,y_predicted)\n",
    "print(confusion)"
   ]
  },
  {
   "cell_type": "code",
   "execution_count": 30,
   "metadata": {},
   "outputs": [
    {
     "name": "stdout",
     "output_type": "stream",
     "text": [
      "[[369  38]\n",
      " [ 40   3]]\n"
     ]
    }
   ],
   "source": [
    "from sklearn.metrics import confusion_matrix\n",
    "dummy_clf = DummyClassifier(strategy='stratified').fit(X_train,y_train)\n",
    "y_predicted  = dummy_clf.predict(X_test)\n",
    "confusion= confusion_matrix(y_test,y_predicted)\n",
    "print(confusion)"
   ]
  },
  {
   "cell_type": "code",
   "execution_count": 32,
   "metadata": {},
   "outputs": [
    {
     "name": "stdout",
     "output_type": "stream",
     "text": [
      "[[402   5]\n",
      " [  5  38]]\n"
     ]
    }
   ],
   "source": [
    "svm = SVC(kernel='linear').fit(X_train,y_train)\n",
    "y_predicted  = svm.predict(X_test)\n",
    "confusion= confusion_matrix(y_test,y_predicted)\n",
    "print(confusion)"
   ]
  },
  {
   "cell_type": "code",
   "execution_count": 33,
   "metadata": {},
   "outputs": [
    {
     "name": "stdout",
     "output_type": "stream",
     "text": [
      "[[401   6]\n",
      " [  6  37]]\n"
     ]
    }
   ],
   "source": [
    "from sklearn.linear_model import LogisticRegression\n",
    "clf = LogisticRegression().fit(X_train,y_train)\n",
    "y_predicted  = clf.predict(X_test)\n",
    "confusion= confusion_matrix(y_test,y_predicted)\n",
    "print(confusion)"
   ]
  },
  {
   "cell_type": "code",
   "execution_count": 35,
   "metadata": {},
   "outputs": [
    {
     "name": "stdout",
     "output_type": "stream",
     "text": [
      "[[400   7]\n",
      " [ 17  26]]\n"
     ]
    }
   ],
   "source": [
    "from sklearn.tree import DecisionTreeClassifier\n",
    "dt = DecisionTreeClassifier(max_depth=2).fit(X_train,y_train)\n",
    "y_predicted  = dt.predict(X_test)\n",
    "confusion= confusion_matrix(y_test,y_predicted)\n",
    "print(confusion)"
   ]
  },
  {
   "cell_type": "markdown",
   "metadata": {},
   "source": [
    "# Evaluation metric for binary classifier"
   ]
  },
  {
   "cell_type": "code",
   "execution_count": 44,
   "metadata": {},
   "outputs": [
    {
     "name": "stdout",
     "output_type": "stream",
     "text": [
      "Accuracy : 0.9466666666666667\n",
      "Precision : 0.7878787878787878\n",
      "Recall : 0.6046511627906976\n",
      "f1_score : 0.6842105263157895\n"
     ]
    }
   ],
   "source": [
    "from sklearn.metrics import accuracy_score,precision_score,recall_score,f1_score\n",
    "\n",
    "print('Accuracy : {}'.format(accuracy_score(y_test,y_predicted)))\n",
    "print('Precision : {}'.format(precision_score(y_test,y_predicted)))\n",
    "print('Recall : {}'.format(recall_score(y_test,y_predicted)))\n",
    "print('f1_score : {}'.format(f1_score(y_test,y_predicted)))"
   ]
  },
  {
   "cell_type": "code",
   "execution_count": 46,
   "metadata": {},
   "outputs": [
    {
     "name": "stdout",
     "output_type": "stream",
     "text": [
      "             precision    recall  f1-score   support\n",
      "\n",
      "          0       0.96      0.98      0.97       407\n",
      "          1       0.79      0.60      0.68        43\n",
      "\n",
      "avg / total       0.94      0.95      0.94       450\n",
      "\n"
     ]
    }
   ],
   "source": [
    "# combined report \n",
    "from sklearn.metrics import classification_report\n",
    "print(classification_report(y_test,y_predicted))"
   ]
  },
  {
   "cell_type": "markdown",
   "metadata": {},
   "source": [
    "# Decision functions"
   ]
  },
  {
   "cell_type": "code",
   "execution_count": 68,
   "metadata": {},
   "outputs": [
    {
     "data": {
      "text/plain": [
       "[(0, -23.176547400757663),\n",
       " (0, -13.541223742469006),\n",
       " (0, -21.722500473360618),\n",
       " (0, -18.907578437722535),\n",
       " (0, -19.736034587372778),\n",
       " (0, -9.7493459511792651),\n",
       " (1, 5.2349002124953099),\n",
       " (0, -19.30716117885968),\n",
       " (0, -25.101015601857377),\n",
       " (0, -21.827250934235906),\n",
       " (0, -24.150855663826746),\n",
       " (0, -19.576844844946265),\n",
       " (0, -22.574902551102674),\n",
       " (0, -10.823739601445064),\n",
       " (0, -11.912425566043064),\n",
       " (0, -10.97956652705531),\n",
       " (1, 11.205846086251944),\n",
       " (0, -27.645770221552823),\n",
       " (0, -12.859636015637092),\n",
       " (0, -25.848590145556187)]"
      ]
     },
     "execution_count": 68,
     "metadata": {},
     "output_type": "execute_result"
    }
   ],
   "source": [
    "X_train,X_test,y_train,y_test = train_test_split(X,y_binary_imbalanced,random_state=0)\n",
    "y_scores_lr = LogisticRegression().fit(X_train,y_train).decision_function(X_test)\n",
    "y_score_list =list(zip(y_test,y_scores_lr))\n",
    "y_score_list[:20]"
   ]
  },
  {
   "cell_type": "code",
   "execution_count": 72,
   "metadata": {},
   "outputs": [
    {
     "data": {
      "text/plain": [
       "[(0, 8.6010872706740499e-11),\n",
       " (0, 1.3155903495453823e-06),\n",
       " (0, 3.6816111034009875e-10),\n",
       " (0, 6.1452989618944584e-09),\n",
       " (0, 2.6837934145133791e-09),\n",
       " (0, 5.8329401240781557e-05),\n",
       " (1, 0.99470087426871634),\n",
       " (0, 4.1210362715903745e-09),\n",
       " (0, 1.2553575357627774e-11),\n",
       " (0, 3.3154719959007555e-10),\n",
       " (0, 3.2465093048358345e-11),\n",
       " (0, 3.1469099051059103e-09),\n",
       " (0, 1.5698002448420801e-10),\n",
       " (0, 1.9920533537070619e-05),\n",
       " (0, 6.706507243234968e-06),\n",
       " (0, 1.7046194538057202e-05),\n",
       " (1, 0.99998640569605668),\n",
       " (0, 9.8535912965519826e-13),\n",
       " (0, 2.6009374594983658e-06),\n",
       " (0, 5.9442892596185542e-12)]"
      ]
     },
     "execution_count": 72,
     "metadata": {},
     "output_type": "execute_result"
    }
   ],
   "source": [
    "X_train,X_test,y_train,y_test = train_test_split(X,y_binary_imbalanced,random_state=0)\n",
    "y_scores_lr = LogisticRegression().fit(X_train,y_train).predict_proba(X_test)\n",
    "y_score_list =list(zip(y_test,y_scores_lr[:,1]))\n",
    "y_score_list[:20]"
   ]
  },
  {
   "cell_type": "code",
   "execution_count": null,
   "metadata": {
    "collapsed": true
   },
   "outputs": [],
   "source": []
  }
 ],
 "metadata": {
  "kernelspec": {
   "display_name": "Python 3",
   "language": "python",
   "name": "python3"
  },
  "language_info": {
   "codemirror_mode": {
    "name": "ipython",
    "version": 3
   },
   "file_extension": ".py",
   "mimetype": "text/x-python",
   "name": "python",
   "nbconvert_exporter": "python",
   "pygments_lexer": "ipython3",
   "version": "3.6.1"
  }
 },
 "nbformat": 4,
 "nbformat_minor": 2
}
